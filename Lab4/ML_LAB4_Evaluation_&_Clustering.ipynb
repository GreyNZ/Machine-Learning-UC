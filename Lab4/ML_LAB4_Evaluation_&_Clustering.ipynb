{
  "nbformat": 4,
  "nbformat_minor": 0,
  "metadata": {
    "colab": {
      "name": "ML_LAB4_Evaluation_&_Clustering.ipynb",
      "provenance": [],
      "collapsed_sections": []
    },
    "kernelspec": {
      "name": "python3",
      "display_name": "Python 3"
    },
    "language_info": {
      "name": "python"
    }
  },
  "cells": [
    {
      "cell_type": "markdown",
      "metadata": {
        "id": "tdqZY3oqxrfW"
      },
      "source": [
        "Evaluation & Clustering\n"
      ]
    },
    {
      "cell_type": "markdown",
      "metadata": {
        "id": "pj4rUdiUxyk2"
      },
      "source": [
        "# Evaluation"
      ]
    },
    {
      "cell_type": "markdown",
      "metadata": {
        "id": "OXCzYcCgx12a"
      },
      "source": [
        "## Q1\n",
        "\n",
        "A classifier's performance can be captured in a confusion matrix, which in the case of a binary classifier is a two-by-two matrix where the main diagonal has the counts of the \"correct\" prediction, while the off-diagonal values are the counts of when the prediction was wrong.\n",
        "\n",
        "Write a function confusion_matrix(classifier, dataset) that takes a classifier and a test dataset, and returns a confusion matrix capturing how well the classifier classified the dataset. The confusion matrix object must be created by calling ConfusionMatrix(tp, fn, fp, tn). The definition of the class is given below. Make sure the definition is included with your answer."
      ]
    },
    {
      "cell_type": "code",
      "metadata": {
        "id": "-S8q4q_H4aCA"
      },
      "source": [
        "from collections import namedtuple\n",
        "\n",
        "class ConfusionMatrix(namedtuple(\"ConfusionMatrix\",\n",
        "                                 \"true_positive false_negative \"\n",
        "                                 \"false_positive true_negative\")):\n",
        "\n",
        "    def __str__(self):\n",
        "        elements = [self.true_positive, self.false_negative,\n",
        "                   self.false_positive, self.true_negative]\n",
        "        return (\"{:>{width}} \" * 2 + \"\\n\" + \"{:>{width}} \" * 2).format(\n",
        "                    *elements, width=max(len(str(e)) for e in elements))\n",
        "        \n",
        "def confusion_matrix(classifier, dataset):\n",
        "  results = {'tp' : 0, 'fp' : 0, 'tn' : 0, 'fn' : 0,}\n",
        "  for point, expected in dataset:\n",
        "    result = classifier(point)\n",
        "    if result == expected and result:\n",
        "        results['tp'] += 1\n",
        "    elif result == expected and not result:\n",
        "        results['tn'] += 1\n",
        "    else:\n",
        "      if result:\n",
        "        results['fp'] += 1\n",
        "      else:\n",
        "        results['fn'] += 1\n",
        "  return ConfusionMatrix(results['tp'], results['fn'], results['fp'], results['tn'])\n",
        "                    "
      ],
      "execution_count": null,
      "outputs": []
    },
    {
      "cell_type": "markdown",
      "metadata": {
        "id": "BvR-ogWr4bsw"
      },
      "source": [
        "Test\n",
        "\n",
        "\n",
        "2 0\n",
        "\n",
        "1 0\n",
        "\n",
        "\n",
        "\n",
        "2 0\n",
        "\n",
        "0 1"
      ]
    },
    {
      "cell_type": "code",
      "metadata": {
        "id": "dtQ3rmiY4byr",
        "colab": {
          "base_uri": "https://localhost:8080/"
        },
        "outputId": "1fde34bc-fb19-42ee-9fce-8714181f2d87"
      },
      "source": [
        "dataset = [\n",
        "    ((0.8, 0.2), 1),\n",
        "    ((0.4, 0.3), 1),\n",
        "    ((0.1, 0.35), 0),\n",
        "]\n",
        "print(confusion_matrix(lambda x: 1, dataset))\n",
        "print()\n",
        "print(confusion_matrix(lambda x: 1 if x[0] + x[1] > 0.5 else 0, dataset))"
      ],
      "execution_count": null,
      "outputs": [
        {
          "output_type": "stream",
          "name": "stdout",
          "text": [
            "2 0 \n",
            "1 0 \n",
            "\n",
            "2 0 \n",
            "0 1 \n"
          ]
        }
      ]
    },
    {
      "cell_type": "markdown",
      "metadata": {
        "id": "dkThXkuVx2Fq"
      },
      "source": [
        "## Q2\n",
        "\n",
        "When solving a classification problem, we often have many different options for classifiers with different strengths and weaknesses. The domination relation in the ROC space determines which classifiers are outperformed by other classifiers for all possible misclassification costs. In this question you have to write a function that filters out all such outperformed classifiers.\n",
        "\n",
        "Write a function roc_non_dominated(classifiers) which takes a collection of classifiers and returns only those classifiers that are not dominated by any other classifier in the collection. A classifier is represented as a pair (classifier_name, confusion_matrix), where classifier_name is a string, and confusion_matrix is a named tuple representing the two-by-two classification confusion matrix. The implementation of a confusion matrix is:\n",
        "\n",
        "from collections import namedtuple\n",
        "\n",
        "class ConfusionMatrix(namedtuple(\"ConfusionMatrix\",\n",
        "                                 \"true_positive false_negative \"\n",
        "                                 \"false_positive true_negative\")):\n",
        "    pass\n",
        "This is the same as in the previous question (less the __str__ method, which we do not need here). Please include it in the answer.\n",
        "\n",
        "In addition to the visible test cases, there are several test cases that load classifier data from files. Each file has up to 10000 classifiers. Two sample files are provided below.\n",
        "\n",
        "roc_small.data\n",
        "roc.data\n",
        "You can use the following code to read the files:\n",
        "\n",
        "classifiers = []\n",
        "with open(filename) as file:\n",
        "    for line in f.readlines():\n",
        "        label, tp, fn, fp, tn = line.strip().split(\",\")\n",
        "        classifiers.append((label,\n",
        "                            ConfusionMatrix(int(tp), int(fn),\n",
        "                                            int(fp), int(tn))))"
      ]
    },
    {
      "cell_type": "code",
      "metadata": {
        "id": "fKxM97kwx2Nn"
      },
      "source": [
        "from collections import namedtuple\n",
        "\n",
        "class ConfusionMatrix(namedtuple(\"ConfusionMatrix\",\n",
        "                                 \"true_positive false_negative \"\n",
        "                                 \"false_positive true_negative\")):\n",
        "    pass\n",
        "        \n",
        "\n",
        "def roc_non_dominated(classifiers):\n",
        "    \"\"\"\n",
        "    Takes a collection of classifiers and returns only those classifiers that are not dominated by any other classifier in the collection. \n",
        "    A classifier is represented as a pair (classifier_name, confusion_matrix), where classifier_name is a string \n",
        "    Aconfusion_matrix is a named tuple representing the two-by-two classification confusion matrix\n",
        "    Domination is definded by smaller False positve and larger True positve\n",
        "    \"\"\"\n",
        "    doms = []\n",
        "    for color, matrix in classifiers:\n",
        "      dominant = True\n",
        "      for color_compare, matrix_compare in classifiers:\n",
        "        if matrix.true_positive < matrix_compare.true_positive:\n",
        "          if matrix.false_positive > matrix_compare.false_positive:\n",
        "            dominant = False\n",
        "            break\n",
        "      if dominant:\n",
        "        doms.append((color, matrix))\n",
        "    return doms"
      ],
      "execution_count": null,
      "outputs": []
    },
    {
      "cell_type": "markdown",
      "metadata": {
        "id": "uY8_hQPj4xuH"
      },
      "source": [
        "Test \n",
        "\n",
        "['Blue', 'Red']"
      ]
    },
    {
      "cell_type": "code",
      "metadata": {
        "id": "2Yv775rp4xz8",
        "colab": {
          "base_uri": "https://localhost:8080/"
        },
        "outputId": "9bdcc479-1df1-41f1-e32d-59ba1ed02ce0"
      },
      "source": [
        "# Example similar to the lecture notes\n",
        "\n",
        "classifiers = [(\"Red\", ConfusionMatrix(60, 40, 20, 80)), (\"Green\", ConfusionMatrix(40, 60, 30, 70)), (\"Blue\", ConfusionMatrix(80, 20, 50, 50)),]\n",
        "print(sorted(label for (label, _) in roc_non_dominated(classifiers)))"
      ],
      "execution_count": null,
      "outputs": [
        {
          "output_type": "stream",
          "name": "stdout",
          "text": [
            "['Blue', 'Red']\n"
          ]
        }
      ]
    },
    {
      "cell_type": "markdown",
      "metadata": {
        "id": "FZKuOylmxvRv"
      },
      "source": [
        "# Clustering\n",
        "\n",
        "\n",
        "So far, every machine learning algorithm we have created takes a dataset which contains feature vectors, and the expected result. This is called supervised learning. But what if we don't have the expected result? Sometimes, we want to solve a problem that we do not have the answer to. \n",
        "\n",
        "So we turn to a class of algorithms that are unsupervised, meaning they are not given the correct answer, and instead have to work out what the answer is from the data alone. \n",
        "\n",
        "We will focus on a fundamental unsupervised algorithm called k-means clustering. It proceeds in two phases:\n",
        "\n",
        "Assign each point in the training data to a class based on the \"centroid\" it is closest to.\n",
        "Update the centroids to be the mean of the training data assigned to it.\n",
        "The algorithm loops until step one repeats itself; that is, everything keeps the same class as the previous iteratio"
      ]
    },
    {
      "cell_type": "markdown",
      "metadata": {
        "id": "-T3b6sy5xtvC"
      },
      "source": [
        "## Q3\n",
        "\n",
        "Update: see the notes added below.\n",
        "\n",
        "Write a function k_means(dataset, centroids) that takes a dataset and k centroids and returns the tuple of updated centroids.\n",
        "\n",
        "A dataset is a numpy array, where each row is a feature vector.\n",
        "\n",
        "The centroids are passed in as a tuple of numpy arrays, where each array is a single centroid vector. Your returned tuple must be the same length as the input centroids tuple.\n",
        "\n",
        "Note: In case of a tie (i.e., there are two closest centroids) choose the centroid that is first in the centroids tuple.\n",
        "\n",
        "Added notes:\n",
        "- Your algorithm needs to loop until convergence.\n",
        "- In the second equation in the lecture notes, N_k is the number of data points that fall in cluster k."
      ]
    },
    {
      "cell_type": "code",
      "metadata": {
        "id": "HMp_OE4BxkA_"
      },
      "source": [
        "import numpy as np\n",
        "from scipy.spatial.distance import cdist\n",
        "\n",
        "def k_means(dataset, centroids):\n",
        "  \"\"\"\n",
        "  Takes a dataset and k centroids and returns the tuple of updated centroids.\n",
        "  param dataset: numpy array, where each row is a feature vector.\n",
        "  param k centroids: tuple of numpy arrays, where each array is a single centroid vector\n",
        "  return: tuple must be the same length as the input centroids tuple.\n",
        "  \"\"\"\n",
        "  np.warnings.filterwarnings('ignore', category=Warning)\n",
        "\n",
        "  def centroid(data, centroids):\n",
        "    deltas = cdist(data, centroids, 'euclidean')\n",
        "    return np.array([np.argmin(delta) for delta in deltas])\n",
        "\n",
        "  current = None\n",
        "  while \"Grass is green\":\n",
        "    #clusters = np.array([dataset[centroid(dataset, centroids) == cent] for cent in range(len(centroids))],dtype=object) # Removes warning but makes long floats???\n",
        "    clusters = np.array([dataset[centroid(dataset, centroids) == cent] for cent in range(len(centroids))])\n",
        "    new_cent = []\n",
        "    for i in range(len(centroids)):\n",
        "      if len(clusters[i]) == 0:\n",
        "        new_cent.append(centroids[i])\n",
        "      else:\n",
        "        new_cent.append(clusters[i].mean(axis=0)) \n",
        "    centroids = tuple(new_cent)\n",
        "    if np.array_equal(centroid(dataset, centroids), current):\n",
        "      break\n",
        "    current = centroid(dataset, centroids)\n",
        "\n",
        "  return centroids"
      ],
      "execution_count": null,
      "outputs": []
    },
    {
      "cell_type": "code",
      "metadata": {
        "id": "XXmD-3zayWBi",
        "colab": {
          "base_uri": "https://localhost:8080/"
        },
        "outputId": "164e14a2-0554-4ece-db47-ef19157d9adc"
      },
      "source": [
        "dataset = np.array([\n",
        "    [0.1, 0.1],\n",
        "    [0.2, 0.2],\n",
        "    [0.8, 0.8],\n",
        "    [0.9, 0.9]\n",
        "])\n",
        "centroids = (np.array([0., 0.]), np.array([1., 1.]))\n",
        "for c in k_means(dataset, centroids):\n",
        "    print(c)"
      ],
      "execution_count": null,
      "outputs": [
        {
          "output_type": "stream",
          "name": "stdout",
          "text": [
            "[0.15 0.15]\n",
            "[0.85 0.85]\n"
          ]
        }
      ]
    },
    {
      "cell_type": "markdown",
      "metadata": {
        "id": "md2cX7payXHL"
      },
      "source": [
        "Test 1\n",
        "\n",
        "[0.15 0.15]\n",
        "\n",
        "[0.85 0.85]"
      ]
    },
    {
      "cell_type": "code",
      "metadata": {
        "id": "gJWSnKFYyWK1",
        "colab": {
          "base_uri": "https://localhost:8080/"
        },
        "outputId": "527d07c3-bb9b-4a30-dd0b-c680677b60d5"
      },
      "source": [
        "dataset = np.array([\n",
        "    [0.1, 0.1],\n",
        "    [0.2, 0.2],\n",
        "    [0.8, 0.8],\n",
        "    [0.9, 0.9]\n",
        "])\n",
        "centroids = (np.array([0., 1.]), np.array([1., 0.]))\n",
        "for c in k_means(dataset, centroids):\n",
        "    print(c)\n",
        "# Think - what does this result \n",
        "#         mean for the partitions?"
      ],
      "execution_count": null,
      "outputs": [
        {
          "output_type": "stream",
          "name": "stdout",
          "text": [
            "[0.5 0.5]\n",
            "[1. 0.]\n"
          ]
        }
      ]
    },
    {
      "cell_type": "markdown",
      "metadata": {
        "id": "HxiG_0Fs0Jwn"
      },
      "source": [
        "Test 2\n",
        "\n",
        "[0.5 0.5]\n",
        "\n",
        "[1. 0.]"
      ]
    },
    {
      "cell_type": "code",
      "metadata": {
        "id": "oaqUtVQHyWTF",
        "colab": {
          "base_uri": "https://localhost:8080/"
        },
        "outputId": "0188fc6d-2c9f-45e3-e614-01ef535cc12e"
      },
      "source": [
        "dataset = np.array([\n",
        "    [0.1, 0.3],\n",
        "    [0.4, 0.6],\n",
        "    [0.1, 0.2],\n",
        "    [0.2, 0.1]\n",
        "])\n",
        "centroids = (np.array([2., 5.]),)\n",
        "for c in k_means(dataset, centroids):\n",
        "    print(c)"
      ],
      "execution_count": null,
      "outputs": [
        {
          "output_type": "stream",
          "name": "stdout",
          "text": [
            "[0.2 0.3]\n"
          ]
        }
      ]
    },
    {
      "cell_type": "markdown",
      "metadata": {
        "id": "hKWlbNL50KQa"
      },
      "source": [
        "Test 3\n",
        "[0.2 0.3]"
      ]
    },
    {
      "cell_type": "markdown",
      "metadata": {
        "id": "iU9BWomQ3q0y"
      },
      "source": [
        "The obvious drawback with K-Means is the need to provide a set of starting centroids. The algorithm is very sensitive to its initialisation, so choosing \"wrong\" centroids to start with can produce wildly different results. So we get around this problem by guessing with many different starting centroids, then choosing the result that is best.\n",
        "\n",
        "But how do we define \"best\"? In previous algorithms, we would compute some error against the true answers, but this is unsupervised - we don't know the answer. Instead, we have to describe what a good solution should look like, then let the algorithm maximise that. We define \"good\" as the separation of the clusters divided by the compactness of the clusters. \n",
        "\n",
        "Separation of a set of clusters is defined as the mean of the pairwise separation of clusters; the pairwise separation of clusters is smallest distance between points between the two clusters. That is, we want the mean of the smallest distances between clusters' points. Mathematically,\n",
        "\n",
        "sep(C) = meanc, d ∈ C, c ≠ d min {dist(a, b) : a ∈ c, b ∈ d}\n",
        "\n",
        "Compactness of a set of clusters is the mean of the compactness of each cluster; the compactness of a single cluster is its \"diameter\", meaning the largest distance between any two points in the cluster. That is, we want the mean of the largest distances within each cluster's points. Mathematically,\n",
        "\n",
        "cpt(C) = meanc ∈ C max {dist(a, b) : a ∈ c, b ∈ c}"
      ]
    },
    {
      "cell_type": "markdown",
      "metadata": {
        "id": "6BfRXGlnxuRv"
      },
      "source": [
        "## Q4\n",
        "\n",
        "Define a function k_means_random_restart(dataset, k, restarts, seed=None) where dataset is a numpy array with each row as a feature vector, k is the number of clusters, restarts is the number of times to try, and seed is the random number seed. This function should return the centroids as a numpy array that produce the best clustering, where \"best\" is separation divided by compactness.\n",
        "\n",
        "Note: This question is unusual in that we have actually given you the function we want you to write. However, it has some dependencies we have not provided. You will need to supply the k_means, cluster_points and goodness helper functions yourself – although one of these should already be done!\n",
        "\n",
        "\n",
        "\n"
      ]
    },
    {
      "cell_type": "code",
      "metadata": {
        "id": "rlIFNBpXxubx"
      },
      "source": [
        "import hashlib\n",
        "import numpy as np\n",
        "from scipy.spatial.distance import cdist, pdist\n",
        "#from itertools import combinations\n",
        "import itertools\n",
        "\n",
        "def k_means(dataset, centroids):\n",
        "  \"\"\"\n",
        "  Takes a dataset and k centroids and returns the tuple of updated centroids.\n",
        "  param dataset: numpy array, where each row is a feature vector.\n",
        "  param k centroids: tuple of numpy arrays, where each array is a single centroid vector\n",
        "  return: tuple must be the same length as the input centroids tuple.\n",
        "  \"\"\"\n",
        "  np.warnings.filterwarnings('ignore', category=Warning)\n",
        "\n",
        "  def centroid(data, centroids):\n",
        "    deltas = cdist(data, centroids, 'euclidean')\n",
        "    return np.array([np.argmin(delta) for delta in deltas])\n",
        "\n",
        "  current = None\n",
        "  while \"Grass is green\":\n",
        "    #clusters = np.array([dataset[centroid(dataset, centroids) == cent] for cent in range(len(centroids))],dtype=object) # Removes warning but makes long floats???\n",
        "    clusters = np.array([dataset[centroid(dataset, centroids) == cent] for cent in range(len(centroids))])\n",
        "    new_cent = []\n",
        "    for i in range(len(centroids)):\n",
        "      if len(clusters[i]) == 0:\n",
        "        new_cent.append(centroids[i])\n",
        "      else:\n",
        "        new_cent.append(clusters[i].mean(axis=0)) \n",
        "    centroids = tuple(new_cent)\n",
        "    if np.array_equal(centroid(dataset, centroids), current):\n",
        "      break\n",
        "    current = centroid(dataset, centroids)\n",
        "\n",
        "  return centroids\n",
        "\n",
        "def pseudo_random(seed=0xdeadbeef):\n",
        "    \"\"\"generate an infinite stream of pseudo-random numbers\"\"\"\n",
        "    state = (0xffffffff & seed)/0xffffffff\n",
        "    while True:\n",
        "        h = hashlib.sha256()\n",
        "        h.update(bytes(str(state), encoding='utf8'))\n",
        "        bits = int.from_bytes(h.digest()[-8:], 'big')\n",
        "        state = bits >> 32\n",
        "        r = (0xffffffff & bits)/0xffffffff\n",
        "        yield r\n",
        "\n",
        "def generate_random_vector(bounds, r):\n",
        "    return np.array([(high - low) * next(r) + low for low, high in bounds])\n",
        "\n",
        "####\n",
        "\n",
        "def cluster_points(centroids, dataset):\n",
        "  clusters = np.array([dataset[np.array([np.argmin(delta) \n",
        "  for delta in cdist(dataset, centroids, 'euclidean')]) == cent] \n",
        "  for cent in range(len(centroids))])\n",
        "  return clusters\n",
        "\n",
        "def separation(clusters):\n",
        "  \"\"\"sep(C) = meanc, d ∈ C, c ≠ d min {dist(a, b) : a ∈ c, b ∈ d}\"\"\"\n",
        "  result = []\n",
        "  for i, j in list(itertools.combinations(range(len(clusters)), 2)):\n",
        "    result.append(np.amin(cdist(clusters[i], clusters[j], 'euclidean')))\n",
        "  return np.mean(result)\n",
        "\n",
        "def compactness(clusters):\n",
        "  \"\"\"cpt(C) = meanc ∈ C max {dist(a, b) : a ∈ c, b ∈ c}\"\"\"\n",
        "  return np.mean([max(pdist(c, 'euclidean')) for c in clusters])\n",
        "\n",
        "def goodness(clusters):\n",
        "  \"\"\"separation of the clusters divided by the compactness of the clusters\"\"\"\n",
        "  return separation(clusters) / compactness(clusters)\n",
        "\n",
        "####\n",
        "\n",
        "def k_means_random_restart(dataset, k, restarts, seed=None):\n",
        "  bounds = list(zip(np.min(dataset, axis=0), np.max(dataset, axis=0)))\n",
        "  r = pseudo_random(seed=seed) if seed else pseudo_random()\n",
        "  models = []\n",
        "  for _ in range(restarts):\n",
        "    random_centroids = tuple(generate_random_vector(bounds, r) for _ in range(k))\n",
        "    new_centroids = k_means(dataset, random_centroids)\n",
        "    clusters = cluster_points(new_centroids, dataset)\n",
        "    if any(len(c) == 0 for c in clusters):\n",
        "      continue\n",
        "    models.append((goodness(clusters), new_centroids))\n",
        "  return max(models, key=lambda x: x[0])[1]"
      ],
      "execution_count": null,
      "outputs": []
    },
    {
      "cell_type": "code",
      "metadata": {
        "id": "0uOB8kfE39hy",
        "colab": {
          "base_uri": "https://localhost:8080/"
        },
        "outputId": "0a9a8f9d-fe2c-4ad7-bc96-c51e2595a05e"
      },
      "source": [
        "dataset = np.array([\n",
        "    [0.1, 0.1],\n",
        "    [0.2, 0.2],\n",
        "    [0.8, 0.8],\n",
        "    [0.9, 0.9]\n",
        "])\n",
        "centroids = k_means_random_restart(dataset, k=2, restarts=5)\n",
        "\n",
        "for c in sorted([f\"{x:8.3}\" for x in centroid] for centroid in centroids):\n",
        "    print(\" \".join(c))"
      ],
      "execution_count": null,
      "outputs": [
        {
          "output_type": "stream",
          "name": "stdout",
          "text": [
            "    0.15     0.15\n",
            "    0.85     0.85\n"
          ]
        }
      ]
    },
    {
      "cell_type": "markdown",
      "metadata": {
        "id": "tIyZ_tw939Zr"
      },
      "source": [
        "Test 1\n",
        "\n",
        "    0.15     0.15\n",
        "    \n",
        "    0.85     0.85"
      ]
    },
    {
      "cell_type": "code",
      "metadata": {
        "id": "AMYJCUw939vd",
        "colab": {
          "base_uri": "https://localhost:8080/"
        },
        "outputId": "b37c87f2-2104-463d-f696-7ecbac074c04"
      },
      "source": [
        "import sklearn.datasets\n",
        "import sklearn.utils\n",
        "\n",
        "iris = sklearn.datasets.load_iris()\n",
        "data, target = sklearn.utils.shuffle(iris.data, iris.target, random_state=0)\n",
        "train_data, train_target = data[:-5, :], target[:-5]\n",
        "test_data, test_target = data[-5:, :], target[-5:]\n",
        "\n",
        "centroids = k_means_random_restart(train_data, k=3, restarts=10)\n",
        "\n",
        "\n",
        "# We suggest you check which centroid each \n",
        "# element in test_data is closest to, then see test_target.\n",
        "# Note cluster 0 -> label 1\n",
        "#      cluster 1 -> label 2\n",
        "#      cluster 2 -> label 0\n",
        "\n",
        "for c in sorted([f\"{x:8.3}\" for x in centroid] for centroid in centroids):\n",
        "    print(\" \".join(c))"
      ],
      "execution_count": null,
      "outputs": [
        {
          "output_type": "stream",
          "name": "stdout",
          "text": [
            "     5.9     2.75      4.4     1.44\n",
            "    5.02     3.44     1.46     0.25\n",
            "    6.84     3.06     5.72     2.08\n"
          ]
        }
      ]
    },
    {
      "cell_type": "markdown",
      "metadata": {
        "id": "lEbgc9ba39oP"
      },
      "source": [
        "Test 2 \n",
        "\n",
        "     5.9     2.75      4.4     1.44\n",
        "\n",
        "    5.02     3.44     1.46     0.25\n",
        "    \n",
        "    6.84     3.06     5.72     2.08"
      ]
    }
  ]
}